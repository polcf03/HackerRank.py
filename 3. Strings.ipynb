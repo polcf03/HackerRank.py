{
 "cells": [
  {
   "cell_type": "markdown",
   "id": "0b4f5b47",
   "metadata": {},
   "source": [
    "<h3>sWAP cASE</h3>"
   ]
  },
  {
   "cell_type": "code",
   "execution_count": null,
   "id": "6807575d",
   "metadata": {},
   "outputs": [],
   "source": [
    "def swap_case(s): # Function to swap case of each character in the string\n",
    "    return s.swapcase() # Use the built-in swapcase method to swap cases of characters in the string\n",
    "\n",
    "s=input()\n",
    "result = swap_case(s) # Read input string\n",
    "print(result)\n"
   ]
  },
  {
   "cell_type": "markdown",
   "id": "2b2d1a45",
   "metadata": {},
   "source": [
    "<h3>String Split and Join</h3>"
   ]
  },
  {
   "cell_type": "code",
   "execution_count": null,
   "id": "29f7ea10",
   "metadata": {},
   "outputs": [],
   "source": [
    "def split_and_join(line): # Function to split a string by spaces and join it with hyphens\n",
    "    return \"-\".join(line.split()) # Split the input string by spaces and join with hyphens\n",
    "\n",
    "line = input()\n",
    "result = split_and_join(line)\n",
    "print(result)"
   ]
  },
  {
   "cell_type": "markdown",
   "id": "2608b0fe",
   "metadata": {},
   "source": [
    "<h3>What's Your Name?</h3>"
   ]
  },
  {
   "cell_type": "code",
   "execution_count": null,
   "id": "62773ff6",
   "metadata": {},
   "outputs": [],
   "source": [
    "def print_full_name(first, last):\n",
    "    print(f\"Hello {first} {last}! You just delved into python.\") \n",
    "    # Function to print a greeting with the first and last name\n",
    "    # f-strings are used for formatting the output\n",
    "first_name = input()\n",
    "last_name = input()\n",
    "print_full_name(first_name, last_name)"
   ]
  },
  {
   "cell_type": "markdown",
   "id": "7c2aa215",
   "metadata": {},
   "source": [
    "<h3>Mutations</h3>"
   ]
  },
  {
   "cell_type": "code",
   "execution_count": null,
   "id": "a00df183",
   "metadata": {},
   "outputs": [],
   "source": [
    "def mutate_string(string, position, character):\n",
    "    mutate_string = string[:position] + character + string[position + 1:] \n",
    "    # insert the character between the string slices\n",
    "    return mutate_string\n",
    "\n",
    "s = input()\n",
    "i, c = input().split()\n",
    "s_new = mutate_string(s, int(i), c)\n",
    "print(s_new)"
   ]
  },
  {
   "cell_type": "markdown",
   "id": "67c22ea8",
   "metadata": {},
   "source": [
    "<h3>Find a string</h3>"
   ]
  },
  {
   "cell_type": "code",
   "execution_count": null,
   "id": "ffa26658",
   "metadata": {},
   "outputs": [],
   "source": [
    "def count_substring(string, sub_string):\n",
    "    cnt = 0\n",
    "    for i in range(len(string) - len(sub_string) + 1):\n",
    "        if string.find(sub_string, i, len(sub_string) + i): # Check if the substring is found in the string\n",
    "            cnt += 1\n",
    "    return cnt\n",
    "\n",
    "string = input().strip()\n",
    "sub_string = input().strip()\n",
    "\n",
    "count = count_substring(string, sub_string)\n",
    "print(count)"
   ]
  },
  {
   "cell_type": "markdown",
   "id": "4a350a0c",
   "metadata": {},
   "source": [
    "<h3>String Validators</h3>"
   ]
  },
  {
   "cell_type": "code",
   "execution_count": null,
   "id": "a4b0ab3e",
   "metadata": {},
   "outputs": [],
   "source": [
    "s = input()\n",
    "print(any(c.isalnum() for c in s))  # Check if any character is alphanumeric\n",
    "print(any(c.isalpha() for c in s))  # Check if any character is alphabetic\n",
    "print(any(c.isdigit() for c in s))  # Check if any character is a digit\n",
    "print(any(c.islower() for c in s))  # Check if any character is lowercase\n",
    "print(any(c.isupper() for c in s))  # Check if any character is uppercase   "
   ]
  },
  {
   "cell_type": "markdown",
   "id": "9e04af65",
   "metadata": {},
   "source": [
    "<h3>Text Alignment</h3>"
   ]
  },
  {
   "cell_type": "code",
   "execution_count": null,
   "id": "178ca4a6",
   "metadata": {},
   "outputs": [],
   "source": [
    "# Replace all ______ with rjust, ljust or center.\n",
    "\n",
    "thickness = int(input())  # This must me an odd number\n",
    "c = 'H'\n",
    "\n",
    "# Top Cone\n",
    "for i in range(thickness):\n",
    "    print((c * i).rjust(thickness - 1) + c + (c * i).ljust(thickness - 1))\n",
    "\n",
    "# Top Pillars\n",
    "for i in range(thickness + 1):\n",
    "    print((c * thickness).center(thickness * 2) +\n",
    "          (c * thickness).center(thickness * 6))\n",
    "\n",
    "# Middle Belt\n",
    "for i in range(int(round((thickness + 1) / 2,0))):\n",
    "    print((c * thickness * 5).center(thickness * 6))\n",
    "\n",
    "# Bottom Pillars\n",
    "for i in range(thickness + 1):\n",
    "    print((c * thickness).center(thickness * 2) +\n",
    "          (c * thickness).center(thickness * 6))\n",
    "\n",
    "# Bottom Cone\n",
    "for i in range(thickness):\n",
    "    print(((c * (thickness - i - 1)).rjust(thickness) + c +\n",
    "          (c * (thickness - i - 1)).ljust(thickness)).rjust(thickness * 6))"
   ]
  },
  {
   "cell_type": "markdown",
   "id": "237080c7",
   "metadata": {},
   "source": [
    "<h3>Text Wrap</h3>"
   ]
  },
  {
   "cell_type": "code",
   "execution_count": null,
   "id": "38f0b29a",
   "metadata": {},
   "outputs": [],
   "source": [
    "import textwrap\n",
    "def wrap(string, max_width):\n",
    "    str = textwrap.fill(string, max_width)  # Use textwrap to wrap the string at the specified width\n",
    "    return str\n",
    "\n",
    "\n",
    "string, max_width = input(), int(input())\n",
    "result = wrap(string, max_width)\n",
    "print(result)"
   ]
  },
  {
   "cell_type": "markdown",
   "id": "36700c03",
   "metadata": {},
   "source": [
    "<h3>Designer Door Mat</h3>"
   ]
  },
  {
   "cell_type": "code",
   "execution_count": null,
   "id": "1208d262",
   "metadata": {},
   "outputs": [],
   "source": [
    "N,M = map(int,input().split())\n",
    "for i in xrange(1, N, 2): \n",
    "    print ( str('.|.')*i ).center(M, '-')\n",
    "print(str('WELCOME').center(M, '-'))\n",
    "for i in xrange(N-2, -1, -2): \n",
    "    print ( str('.|.')*i ).center(M, '-')"
   ]
  },
  {
   "cell_type": "markdown",
   "id": "1fadaeda",
   "metadata": {},
   "source": [
    "<h3>String Formatting</h3>"
   ]
  },
  {
   "cell_type": "code",
   "execution_count": null,
   "id": "2782c3f3",
   "metadata": {},
   "outputs": [],
   "source": [
    "def print_formatted(number):\n",
    "    a = len(bin(number)[2:]) # Calculate the length of the binary representation\n",
    "    for i in range(number):\n",
    "        print(f\"{i + 1:>{a}} {oct(i + 1)[2:]:>{a}} {hex(i + 1).upper()[2:]:>{a}} {bin(i + 1)[2:]:>{a}}\")\n",
    "        # Print the number in decimal, octal, hexadecimal, and binary formats\n",
    "        #\":>{a}\" used for right alignment\n",
    "        \n",
    "n = int(input())\n",
    "print_formatted(n)   "
   ]
  },
  {
   "cell_type": "markdown",
   "id": "cf6894c2",
   "metadata": {},
   "source": [
    "<h3>Alphabet Rangoli</h3>"
   ]
  },
  {
   "cell_type": "code",
   "execution_count": null,
   "id": "21435dbc",
   "metadata": {},
   "outputs": [],
   "source": [
    "def print_rangoli(size):\n",
    "    for i in range(size):\n",
    "        s = \"-\".join(chr(ord('a')+n-j-1) for j in range(i+1))\n",
    "        print((s+s[::-1][1:]).center(n*4-3, '-'))\n",
    "\n",
    "    for i in range(size-1):\n",
    "        s = \"-\".join(chr(ord('a')+n-j-1) for j in range(n-i-1))\n",
    "        print((s+s[::-1][1:]).center(n*4-3, '-'))\n",
    "\n",
    "n = int(input())\n",
    "print_rangoli(n)"
   ]
  },
  {
   "cell_type": "markdown",
   "id": "ce222bf0",
   "metadata": {},
   "source": [
    "<h3>Capitalize!</h3>"
   ]
  },
  {
   "cell_type": "code",
   "execution_count": null,
   "id": "494ba21e",
   "metadata": {},
   "outputs": [],
   "source": [
    "def solve(s):\n",
    "    s = ''.join(word.capitalize() for word in s.split(''))  # Capitalize each word in the string\n",
    "    return s\n",
    "s = input()\n",
    "solve(s)"
   ]
  }
 ],
 "metadata": {
  "kernelspec": {
   "display_name": "Python 3",
   "language": "python",
   "name": "python3"
  },
  "language_info": {
   "codemirror_mode": {
    "name": "ipython",
    "version": 3
   },
   "file_extension": ".py",
   "mimetype": "text/x-python",
   "name": "python",
   "nbconvert_exporter": "python",
   "pygments_lexer": "ipython3",
   "version": "3.13.3"
  }
 },
 "nbformat": 4,
 "nbformat_minor": 5
}
