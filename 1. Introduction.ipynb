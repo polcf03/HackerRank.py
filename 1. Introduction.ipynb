{
 "cells": [
  {
   "cell_type": "markdown",
   "id": "e9beaefe",
   "metadata": {},
   "source": [
    "<h1>Hacker Rank Python Problems<h1>"
   ]
  },
  {
   "cell_type": "markdown",
   "id": "afba969b",
   "metadata": {},
   "source": [
    "<h3>if-else solution</h3>\n",
    "Given an integer, n, perform the following conditional actions:\n",
    "<li>If n is odd, print Weird</li>\n",
    "<li>If n is even and in the inclusive range of to 2 to 5, print Not Weird</li>\n",
    "<li>If n is even and in the inclusive range of 6 to 20, print Weird</li>\n",
    "<li>If n is even and greater than 20, print Not Weird</li>"
   ]
  },
  {
   "cell_type": "code",
   "execution_count": null,
   "id": "f47f0992",
   "metadata": {},
   "outputs": [],
   "source": [
    "n = int(input(\"number: \")) # Input an integer\n",
    "if n % 2 == 0: # Check if the number is even\n",
    "    if n in range(2, 6): # Check if the number is in the range 2 to 5\n",
    "        print(\"Not Weird\")\n",
    "    elif n in range(6, 21): # Check if the number is in the range 6 to 20\n",
    "        print(\"Weird\")\n",
    "    else:\n",
    "        print(\"Not Weird\")\n",
    "else:\n",
    "    print(\"Weird\")"
   ]
  },
  {
   "cell_type": "markdown",
   "id": "586cf822",
   "metadata": {},
   "source": [
    "\n",
    "<h3>Arithmetic Operators solution</h3>\n",
    "The provided code stub reads two integers from STDIN, a and b. Add code to print three lines where:\n",
    "<ol>\n",
    "    <li>The first line contains the sum of the two numbers.</li>\n",
    "    <li>The second line contains the difference of the two numbers (first - second).</li>\n",
    "    <li>The third line contains the product of the two numbers.</li>\n",
    "</ol>\n"
   ]
  },
  {
   "cell_type": "code",
   "execution_count": null,
   "id": "f476543a",
   "metadata": {},
   "outputs": [],
   "source": [
    "a = int(input(\"a: \"))\n",
    "b = int(input(\"b: \"))\n",
    "print(a + b) # Sum\n",
    "print(a - b) # Difference\n",
    "print(a * b) # Product"
   ]
  },
  {
   "cell_type": "markdown",
   "id": "f13d28fd",
   "metadata": {},
   "source": [
    "<h3>Division solution</h3>\n",
    "The provided code stub reads two integers, a and b, from STDIN.\n",
    "\n",
    "Add logic to print two lines. The first line should contain the result of integer division, a // b. The second line should contain the result of float division, a / b.\n",
    "\n",
    "No rounding or formatting is necessary."
   ]
  },
  {
   "cell_type": "code",
   "execution_count": null,
   "id": "9d5de42b",
   "metadata": {},
   "outputs": [],
   "source": [
    "a = int(input(\"a: \"))\n",
    "b = int(input(\"b: \"))\n",
    "print(a // b)  # Floor division\n",
    "print(a / b)   # True division"
   ]
  },
  {
   "cell_type": "markdown",
   "id": "92a67dfe",
   "metadata": {},
   "source": [
    "<h3>Loops solution</h3>\n",
    "The provided code stub reads an integer, n, from STDIN. For all non-negative integers i < n, print i^2. "
   ]
  },
  {
   "cell_type": "code",
   "execution_count": null,
   "id": "8c93f670",
   "metadata": {},
   "outputs": [],
   "source": [
    "n = int(input(\"n: \")) \n",
    "for i in range(n): # Loop from 0 to n-1\n",
    "    print(i ** 2) # Print square of each number"
   ]
  },
  {
   "cell_type": "markdown",
   "id": "3da5a524",
   "metadata": {},
   "source": [
    "<h3>Write Function solution</h3>\n",
    "An extra day is added to the calendar almost every four years as February 29, and the day is called a leap day. It corrects the calendar for the fact that our planet takes approximately 365.25 days to orbit the sun. A leap year contains a leap day."
   ]
  },
  {
   "cell_type": "code",
   "execution_count": null,
   "id": "6a993c48",
   "metadata": {},
   "outputs": [],
   "source": [
    "def is_leap(year): # Function to check if a year is a leap year\n",
    "    leap = False # Initialize leap as False\n",
    "    \n",
    "    if year % 4 == 0: # Check if year is divisible by 4\n",
    "        if year % 100 == 0: # Check if year is divisible by 100\n",
    "            if year % 400 == 0: # Check if year is divisible by 400\n",
    "                leap = True\n",
    "            else:\n",
    "                leap = False\n",
    "        else:\n",
    "            leap = True\n",
    "    else:\n",
    "        leap = False    \n",
    "    return leap # Return the leap status\n",
    "\n",
    "year = int(input())\n",
    "print(is_leap(year)) # Check if the year is a leap year"
   ]
  },
  {
   "cell_type": "markdown",
   "id": "ca313e0d",
   "metadata": {},
   "source": [
    "<h3>Print Function solution</h3>\n",
    "The included code stub will read an integer, n, from STDIN.\n",
    "\n",
    "Without using any string methods, try to print the following:\n",
    "\n",
    "123···n\n",
    "\n",
    "Note that \"\" represents the consecutive values in between."
   ]
  },
  {
   "cell_type": "code",
   "execution_count": null,
   "id": "bb3c9db9",
   "metadata": {},
   "outputs": [],
   "source": [
    "n = int(input(\"n: \"))\n",
    "for i in range(1, n + 1): # Loop from 1 to n\n",
    "    print(i, end='') # Print numbers in a single line without spaces"
   ]
  }
 ],
 "metadata": {
  "kernelspec": {
   "display_name": "Python 3",
   "language": "python",
   "name": "python3"
  },
  "language_info": {
   "codemirror_mode": {
    "name": "ipython",
    "version": 3
   },
   "file_extension": ".py",
   "mimetype": "text/x-python",
   "name": "python",
   "nbconvert_exporter": "python",
   "pygments_lexer": "ipython3",
   "version": "3.13.3"
  }
 },
 "nbformat": 4,
 "nbformat_minor": 5
}
