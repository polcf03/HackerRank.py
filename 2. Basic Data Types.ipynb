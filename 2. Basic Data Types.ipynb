{
 "cells": [
  {
   "cell_type": "markdown",
   "id": "a675194f",
   "metadata": {},
   "source": [
    "<h3>List Comphension solution</h3>\n",
    "Make and print a list with input dimensions"
   ]
  },
  {
   "cell_type": "code",
   "execution_count": null,
   "id": "029130b7",
   "metadata": {},
   "outputs": [],
   "source": [
    "x = int(input())\n",
    "y = int(input())\n",
    "z = int(input())\n",
    "n = int(input())\n",
    "a=[] # Initialize an empty list to store the combinations\n",
    "for i in range(x + 1): # Loop through the range of x\n",
    "    for j in range(y + 1): # Loop through the range of y\n",
    "        for k in range(z + 1): # Loop through the range of z\n",
    "            if (i + j + k) != n: # Check if the sum of i, j, and k is not equal to n\n",
    "                a.append([i, j, k]) # Append the valid combination to the list\n",
    "print(a) # Print the list of combinations"
   ]
  },
  {
   "cell_type": "markdown",
   "id": "5915b55d",
   "metadata": {},
   "source": [
    "<h3>Runner-Up Score</h3>\n",
    "Devuelve el subcampeon"
   ]
  },
  {
   "cell_type": "code",
   "execution_count": null,
   "id": "2e4df82c",
   "metadata": {},
   "outputs": [],
   "source": [
    "n = int(input()) \n",
    "arr = map(int, input().split()) # Read space-separated integers\n",
    "arr = list(set(arr)) # Convert to a set to remove duplicates\n",
    "arr.sort(reverse=True) # Sort the list in descending order\n",
    "print(arr[1]) # Print the second largest number"
   ]
  },
  {
   "cell_type": "markdown",
   "id": "47765c86",
   "metadata": {},
   "source": [
    "<h3>Nested Lists</h3>\n",
    "Devuelve el nombre de la segunda nota mas baja (si hay notas iguales devuelve los nombres)"
   ]
  },
  {
   "cell_type": "code",
   "execution_count": null,
   "id": "a1e71c1a",
   "metadata": {},
   "outputs": [],
   "source": [
    "fichas = [] # Initialize an empty list to store names and scores\n",
    "for a in range(int(input())): # Read the number of entries and loop through each entry\n",
    "    name = input()\n",
    "    score = float(input())\n",
    "    fichas.append([name, score]) # Append the name and score as a list to fichas\n",
    "fichas.sort(key=lambda x: x[1]) # Sort fichas by score\n",
    "Penultimos = [] # Initialize an empty list to store the second lowest scores\n",
    "for i in range(len(fichas)): # Loop through the sorted fichas\n",
    "    if i == 0 or fichas[i][1] == fichas[0][1]: # Skip the first entry or entries with the same score as the first\n",
    "        continue # Skip to the next iteration\n",
    "    else:\n",
    "        if i == len(fichas)-1: # If it's the last entry\n",
    "            Penultimos.append(fichas[i]) \n",
    "        else:\n",
    "            if fichas[i][1] != fichas[i+1][1]: # If the next entry has a different score\n",
    "                Penultimos.append(fichas[i])\n",
    "                break # Break the loop after finding the second lowest score\n",
    "            else:\n",
    "                Penultimos.append(fichas[i])\n",
    "Penultimos.sort(key=lambda x: x[0]) # Sort the Penultimos list by name\n",
    "for j in range(len(Penultimos)): # Loop through the sorted Penultimos list\n",
    "    print(Penultimos[j][0]) # Print the names of the entries with the second lowest score\n"
   ]
  },
  {
   "cell_type": "markdown",
   "id": "08a53be1",
   "metadata": {},
   "source": [
    "<h3>Finding the percentage</h3>\n",
    "Devuelve la media de las notas dadas del estudiante solicitado con dos decimales"
   ]
  },
  {
   "cell_type": "code",
   "execution_count": null,
   "id": "0e506043",
   "metadata": {},
   "outputs": [],
   "source": [
    "n = int(input())\n",
    "student_marks = {} # Initialize an empty dictionary to store student names and their scores\n",
    "for _ in range(n): # Loop to read n student entries\n",
    "    name, *line = input().split() # Read the name and scores from input\n",
    "    # Convert scores from strings to floats and store them in the dictionary\n",
    "    scores = list(map(float, line)) # Store the scores as a list of floats\n",
    "    student_marks[name] = scores # Store the name as the key and scores as the value\n",
    "query_name = input()\n",
    "avg= sum(student_marks[query_name]) / len(student_marks[query_name]) # Calculate the average score for the queried student\n",
    "print(f\"{avg:.2f}\") # Print the average score formatted to two decimal places"
   ]
  },
  {
   "cell_type": "markdown",
   "id": "c83284ac",
   "metadata": {},
   "source": [
    "<h3>Lists</h3>\n",
    "Ejecuta los comandos pedidos"
   ]
  },
  {
   "cell_type": "code",
   "execution_count": null,
   "id": "dc99b8f8",
   "metadata": {},
   "outputs": [
    {
     "name": "stdout",
     "output_type": "stream",
     "text": [
      "[2]\n"
     ]
    }
   ],
   "source": [
    "N = int(input())\n",
    "lst = []\n",
    "for _ in range(N): # Read N commands\n",
    "    commands = input().strip().split() # Split the input into commands\n",
    "    match commands[0]:\n",
    "        case 'insert':\n",
    "            lst.insert(int(commands[1]), int(commands[2]))\n",
    "        case 'print':\n",
    "            print(lst)\n",
    "        case 'remove':\n",
    "            lst.remove(int(commands[1]))\n",
    "        case 'append':\n",
    "            lst.append(int(commands[1]))\n",
    "        case 'sort':\n",
    "            lst.sort()\n",
    "        case 'pop':\n",
    "            lst.pop()\n",
    "        case 'reverse':\n",
    "            lst.reverse() "
   ]
  }
 ],
 "metadata": {
  "kernelspec": {
   "display_name": "Python 3",
   "language": "python",
   "name": "python3"
  },
  "language_info": {
   "codemirror_mode": {
    "name": "ipython",
    "version": 3
   },
   "file_extension": ".py",
   "mimetype": "text/x-python",
   "name": "python",
   "nbconvert_exporter": "python",
   "pygments_lexer": "ipython3",
   "version": "3.13.3"
  }
 },
 "nbformat": 4,
 "nbformat_minor": 5
}
