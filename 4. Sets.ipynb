{
 "cells": [
  {
   "cell_type": "markdown",
   "id": "d9c8e0ac",
   "metadata": {},
   "source": [
    "<h3>Introduction to Sets</h3>"
   ]
  },
  {
   "cell_type": "code",
   "execution_count": null,
   "id": "44aade9b",
   "metadata": {},
   "outputs": [],
   "source": [
    "def average(array):\n",
    "    return sum(set(array)) / n\n",
    "\n",
    "n = int(input())\n",
    "arr = list(map(int, input().split()))\n",
    "result = average(arr)\n",
    "print(f\"{result:2f}\")"
   ]
  }
 ],
 "metadata": {
  "kernelspec": {
   "display_name": "Python 3",
   "language": "python",
   "name": "python3"
  },
  "language_info": {
   "codemirror_mode": {
    "name": "ipython",
    "version": 3
   },
   "file_extension": ".py",
   "mimetype": "text/x-python",
   "name": "python",
   "nbconvert_exporter": "python",
   "pygments_lexer": "ipython3",
   "version": "3.13.3"
  }
 },
 "nbformat": 4,
 "nbformat_minor": 5
}
